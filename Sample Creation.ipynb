{
 "cells": [
  {
   "cell_type": "code",
   "execution_count": 14,
   "metadata": {},
   "outputs": [],
   "source": [
    "import os, shutil\n",
    "from numpy.random import choice"
   ]
  },
  {
   "cell_type": "markdown",
   "metadata": {},
   "source": [
    "These two cells created the sample files by using a random choice without replacement. To ensure that we are all working with the same images, it generates a text file (called *selections.txt*) which you will download off of github. There is no need to redo this, but I am leaving it here just so it can be reused if needed."
   ]
  },
  {
   "cell_type": "code",
   "execution_count": 3,
   "metadata": {},
   "outputs": [
    {
     "name": "stdout",
     "output_type": "stream",
     "text": [
      "21204\n"
     ]
    }
   ],
   "source": [
    "# i_band_images = os.listdir(\"images_i/\")\n",
    "# print(len(i_band_images))"
   ]
  },
  {
   "cell_type": "code",
   "execution_count": 7,
   "metadata": {},
   "outputs": [],
   "source": [
    "# f = open(\"selections.txt\", \"w\")\n",
    "\n",
    "# rand_selections = choice(i_band_images, 5000, replace=False)\n",
    "\n",
    "# for n in rand_selections:\n",
    "#     f.write(n + \"\\n\")\n",
    "\n",
    "# f.close()"
   ]
  },
  {
   "cell_type": "markdown",
   "metadata": {},
   "source": [
    "This script below copies all files from the text file from the i_band images to the sample directory (which is automatically created). There is no need to run this more than once. Expect it to take a couple minutes. Note that this COPIES the images. If you are at risk of running out of space, please change shutil.copyfile() to shutil.move(). Otherwise, leave it as is."
   ]
  },
  {
   "cell_type": "code",
   "execution_count": 16,
   "metadata": {},
   "outputs": [],
   "source": [
    "path = \"images_i/\"\n",
    "sample_path = \"i_band_sample/\"\n",
    "\n",
    "if not os.path.isdir(sample_path):\n",
    "    os.mkdir(sample_path)\n",
    "\n",
    "lines = open(\"selections.txt\", \"r\").readlines()\n",
    "\n",
    "for n in lines:\n",
    "    filename = n.strip()\n",
    "    shutil.copyfile(path + filename, sample_path + filename)"
   ]
  },
  {
   "cell_type": "markdown",
   "metadata": {},
   "source": [
    "Make sure to change the Classifications.fits file you have already created to a different directory, or rename it (that should generate a new active one)."
   ]
  }
 ],
 "metadata": {
  "kernelspec": {
   "display_name": "Python 3",
   "language": "python",
   "name": "python3"
  },
  "language_info": {
   "codemirror_mode": {
    "name": "ipython",
    "version": 3
   },
   "file_extension": ".py",
   "mimetype": "text/x-python",
   "name": "python",
   "nbconvert_exporter": "python",
   "pygments_lexer": "ipython3",
   "version": "3.7.3"
  }
 },
 "nbformat": 4,
 "nbformat_minor": 2
}
